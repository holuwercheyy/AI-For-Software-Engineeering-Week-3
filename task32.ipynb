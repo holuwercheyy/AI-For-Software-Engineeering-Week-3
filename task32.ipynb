{
  "nbformat": 4,
  "nbformat_minor": 0,
  "metadata": {
    "colab": {
      "provenance": [],
      "authorship_tag": "ABX9TyOR6LaYD4xHoyMAJ97nV/CZ",
      "include_colab_link": true
    },
    "kernelspec": {
      "name": "python3",
      "display_name": "Python 3"
    },
    "language_info": {
      "name": "python"
    }
  },
  "cells": [
    {
      "cell_type": "markdown",
      "metadata": {
        "id": "view-in-github",
        "colab_type": "text"
      },
      "source": [
        "<a href=\"https://colab.research.google.com/github/holuwercheyy/AI-For-Software-Engineeering-Week-3/blob/main/task32.ipynb\" target=\"_parent\"><img src=\"https://colab.research.google.com/assets/colab-badge.svg\" alt=\"Open In Colab\"/></a>"
      ]
    },
    {
      "cell_type": "code",
      "source": [
        "import spacy\n",
        "\n",
        "# Load the spaCy English model\n",
        "nlp = spacy.load(\"en_core_web_sm\")\n",
        "\n",
        "# Sample Amazon product reviews\n",
        "reviews = [\n",
        "    \"I love my new Apple iPhone, it's amazing!\",\n",
        "    \"The Sony TV I bought is terrible, poor picture quality.\",\n",
        "    \"I'm so happy with my Samsung Galaxy phone, it's fast and reliable.\",\n",
        "    \"The customer service for my Dell laptop was horrible.\",\n",
        "    \"I'm disappointed with the quality of the Nike shoes I purchased.\"\n",
        "]\n",
        "\n",
        "# Positive and negative word lists\n",
        "positive_words = [\"love\", \"amazing\", \"happy\", \"great\", \"good\"]\n",
        "negative_words = [\"terrible\", \"horrible\", \"disappointed\", \"poor\", \"bad\"]\n",
        "\n",
        "# Perform NER and sentiment analysis\n",
        "for review in reviews:\n",
        "    doc = nlp(review)\n",
        "    entities = [(ent.text, ent.label_) for ent in doc.ents]\n",
        "    words = review.lower().split()\n",
        "    positive_count = sum(1 for word in words if word in positive_words)\n",
        "    negative_count = sum(1 for word in words if word in negative_words)\n",
        "    sentiment = \"Positive\" if positive_count > negative_count else \"Negative\" if negative_count > positive_count else \"Neutral\"\n",
        "\n",
        "    print(\"Review:\", review)\n",
        "    print(\"Entities:\", entities)\n",
        "    print(\"Sentiment:\", sentiment)\n",
        "    print()"
      ],
      "metadata": {
        "colab": {
          "base_uri": "https://localhost:8080/"
        },
        "id": "64aBKMYt0kOh",
        "outputId": "6e754f9a-bd93-40a7-9121-d6d55c2a17d7"
      },
      "execution_count": 8,
      "outputs": [
        {
          "output_type": "stream",
          "name": "stdout",
          "text": [
            "Review: I love my new Apple iPhone, it's amazing!\n",
            "Entities: [('Apple', 'ORG')]\n",
            "Sentiment: Positive\n",
            "\n",
            "Review: The Sony TV I bought is terrible, poor picture quality.\n",
            "Entities: [('Sony', 'ORG')]\n",
            "Sentiment: Negative\n",
            "\n",
            "Review: I'm so happy with my Samsung Galaxy phone, it's fast and reliable.\n",
            "Entities: [('Samsung Galaxy', 'ORG')]\n",
            "Sentiment: Positive\n",
            "\n",
            "Review: The customer service for my Dell laptop was horrible.\n",
            "Entities: []\n",
            "Sentiment: Neutral\n",
            "\n",
            "Review: I'm disappointed with the quality of the Nike shoes I purchased.\n",
            "Entities: [('Nike', 'ORG')]\n",
            "Sentiment: Negative\n",
            "\n"
          ]
        }
      ]
    }
  ]
}